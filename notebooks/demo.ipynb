{
 "cells": [
  {
   "cell_type": "markdown",
   "metadata": {},
   "source": [
    "# Quantum Blot Demo\n",
    "This notebook demonstrates the embedding and dimensionality reduction pipeline.",
    "\n",
    "Follow the steps below to load text, embed it, reduce dimensionality with PCA,",
    " and visualize the results.\n"
   ]
  }
 ],
 "metadata": {
  "kernelspec": {
   "display_name": "Python 3",
   "language": "python",
   "name": "python3"
  },
  "language_info": {
   "name": "python",
   "version": "3.8"
  }
 },
 "nbformat": 4,
 "nbformat_minor": 5
}